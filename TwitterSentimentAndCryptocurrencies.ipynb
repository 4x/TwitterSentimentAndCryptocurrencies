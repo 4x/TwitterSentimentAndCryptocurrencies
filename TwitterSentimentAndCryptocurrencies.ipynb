{
 "cells": [
  {
   "cell_type": "markdown",
   "metadata": {},
   "source": [
    "# Correlation analysis between the Bitcoin currency and Twitter\n",
    "\n",
    "This project consists of a correlation analysis between the Bitcoin currency and tweets. In order to define the positiveness of a tweet (if the course of the bitcoin will go up or down), we realise a sentiment analysis of each tweet using the VADER algorithm. Finally we try to find a correlation between the two and we will make some machine learning to make predictions.\n",
    "\n",
    "This notebook was written using Python 3.6."
   ]
  },
  {
   "cell_type": "markdown",
   "metadata": {},
   "source": [
    "## Import the Python dependencies\n",
    "For this project we need Pandas to manage all of our datasets.\n",
    "\n",
    "You will need to run the following commands with pip to install the dependencies:\n",
    "\n",
    "```\n",
    "pip install VaderSentiment\n",
    "pip install pandas\n",
    "pip install tqdm\n",
    "...\n",
    "```\n",
    "\n",
    "You can also run `pip install .` from the project's root folder to install all the requirements from the `requirements.txt` file."
   ]
  },
  {
   "cell_type": "code",
   "execution_count": 19,
   "metadata": {},
   "outputs": [],
   "source": [
    "import json\n",
    "import pandas as pd\n",
    "import io\n",
    "from vaderSentiment.vaderSentiment import SentimentIntensityAnalyzer\n",
    "import numpy as np\n",
    "import matplotlib.pyplot as plt\n",
    "from tqdm import tnrange, tqdm_notebook, tqdm\n",
    "import glob\n",
    "from datetime import datetime, timedelta"
   ]
  },
  {
   "cell_type": "markdown",
   "metadata": {},
   "source": [
    "## Set the currency and the data files"
   ]
  },
  {
   "cell_type": "code",
   "execution_count": 7,
   "metadata": {},
   "outputs": [],
   "source": [
    "# Define the currency\n",
    "#CURRENCY = \"zilliqa\"\n",
    "#CURRENCY_SYMBOL = \"ZIL\"\n",
    "#CURRENCY = \"nexo\"\n",
    "#CURRENCY_SYMBOL = \"NEXO\"\n",
    "CURRENCY = \"bitcoin\"\n",
    "CURRENCY_SYMBOL = \"BTC\"\n",
    "\n",
    "\n",
    "CRYPTO_FOLDER = f\"data/crypto/{CURRENCY_SYMBOL}\"\n",
    "TWITTER_FOLDER = f\"data/twitter/{CURRENCY_SYMBOL}\"\n",
    "\n",
    "tweets_clean_file = f'{TWITTER_FOLDER}/{CURRENCY}_tweets_clean.csv'"
   ]
  },
  {
   "cell_type": "markdown",
   "metadata": {},
   "source": [
    "## Load the datasets\n",
    "We read the data generated from two other notebooks, TwitterExtraction and CryptoCurrencyExtraction. The data is stored in 2 CSV files. The first one contains around 430'000 tweets all related to the Bitcoin on a period of 10 days between the 10.05.2018 and the 20.05.2018. The second dataset contains the historical data of the exchange rate between Bitcoin and USD over the same period of time."
   ]
  },
  {
   "cell_type": "code",
   "execution_count": 8,
   "metadata": {},
   "outputs": [
    {
     "name": "stdout",
     "output_type": "stream",
     "text": [
      "tweet shape before droping duplicates (428973, 7)\n",
      "tweet shape after droping duplicates (423849, 7)\n",
      "duplicates removed 5124\n"
     ]
    },
    {
     "data": {
      "text/html": [
       "<div>\n",
       "<style scoped>\n",
       "    .dataframe tbody tr th:only-of-type {\n",
       "        vertical-align: middle;\n",
       "    }\n",
       "\n",
       "    .dataframe tbody tr th {\n",
       "        vertical-align: top;\n",
       "    }\n",
       "\n",
       "    .dataframe thead th {\n",
       "        text-align: right;\n",
       "    }\n",
       "</style>\n",
       "<table border=\"1\" class=\"dataframe\">\n",
       "  <thead>\n",
       "    <tr style=\"text-align: right;\">\n",
       "      <th></th>\n",
       "      <th>ID</th>\n",
       "      <th>Text</th>\n",
       "      <th>UserName</th>\n",
       "      <th>UserFollowerCount</th>\n",
       "      <th>RetweetCount</th>\n",
       "      <th>Likes</th>\n",
       "      <th>CreatedAt</th>\n",
       "    </tr>\n",
       "  </thead>\n",
       "  <tbody>\n",
       "    <tr>\n",
       "      <th>0</th>\n",
       "      <td>998140768622596097</td>\n",
       "      <td>RT : Check out our new bounty program on Bitco...</td>\n",
       "      <td>Neaj Morshed</td>\n",
       "      <td>88</td>\n",
       "      <td>2080</td>\n",
       "      <td>0</td>\n",
       "      <td>Sun May 20 09:57:58 +0000 2018</td>\n",
       "    </tr>\n",
       "    <tr>\n",
       "      <th>1</th>\n",
       "      <td>998140767016173569</td>\n",
       "      <td>RT : GIN CASH early backers bounty distributio...</td>\n",
       "      <td>Ирина Абрамова</td>\n",
       "      <td>0</td>\n",
       "      <td>4125</td>\n",
       "      <td>0</td>\n",
       "      <td>Sun May 20 09:57:58 +0000 2018</td>\n",
       "    </tr>\n",
       "    <tr>\n",
       "      <th>2</th>\n",
       "      <td>998140757872529408</td>\n",
       "      <td>RT : Here’s a sneak peak, the title:‘My Tweet ...</td>\n",
       "      <td>julia</td>\n",
       "      <td>10</td>\n",
       "      <td>35</td>\n",
       "      <td>0</td>\n",
       "      <td>Sun May 20 09:57:55 +0000 2018</td>\n",
       "    </tr>\n",
       "    <tr>\n",
       "      <th>3</th>\n",
       "      <td>998140749114888192</td>\n",
       "      <td>RT : GIN CASH early backers bounty distributio...</td>\n",
       "      <td>Tan Booking</td>\n",
       "      <td>186</td>\n",
       "      <td>4125</td>\n",
       "      <td>0</td>\n",
       "      <td>Sun May 20 09:57:53 +0000 2018</td>\n",
       "    </tr>\n",
       "    <tr>\n",
       "      <th>4</th>\n",
       "      <td>998140746493505536</td>\n",
       "      <td>RT : PO8 CMO Raul Vasquez and ICON  Co-Founder...</td>\n",
       "      <td>gospetig</td>\n",
       "      <td>23</td>\n",
       "      <td>469</td>\n",
       "      <td>0</td>\n",
       "      <td>Sun May 20 09:57:53 +0000 2018</td>\n",
       "    </tr>\n",
       "  </tbody>\n",
       "</table>\n",
       "</div>"
      ],
      "text/plain": [
       "                   ID                                               Text  \\\n",
       "0  998140768622596097  RT : Check out our new bounty program on Bitco...   \n",
       "1  998140767016173569  RT : GIN CASH early backers bounty distributio...   \n",
       "2  998140757872529408  RT : Here’s a sneak peak, the title:‘My Tweet ...   \n",
       "3  998140749114888192  RT : GIN CASH early backers bounty distributio...   \n",
       "4  998140746493505536  RT : PO8 CMO Raul Vasquez and ICON  Co-Founder...   \n",
       "\n",
       "         UserName  UserFollowerCount  RetweetCount  Likes  \\\n",
       "0    Neaj Morshed                 88          2080      0   \n",
       "1  Ирина Абрамова                  0          4125      0   \n",
       "2           julia                 10            35      0   \n",
       "3     Tan Booking                186          4125      0   \n",
       "4        gospetig                 23           469      0   \n",
       "\n",
       "                        CreatedAt  \n",
       "0  Sun May 20 09:57:58 +0000 2018  \n",
       "1  Sun May 20 09:57:58 +0000 2018  \n",
       "2  Sun May 20 09:57:55 +0000 2018  \n",
       "3  Sun May 20 09:57:53 +0000 2018  \n",
       "4  Sun May 20 09:57:53 +0000 2018  "
      ]
     },
     "execution_count": 8,
     "metadata": {},
     "output_type": "execute_result"
    }
   ],
   "source": [
    "tweets = pd.read_csv(tweets_clean_file)\n",
    "\n",
    "# Drop duplicate tweets\n",
    "print('tweet shape before droping duplicates', tweets.shape)\n",
    "duplicates_removed = tweets.shape[0]\n",
    "tweets = tweets.drop_duplicates(subset=['ID'])\n",
    "duplicates_removed -= tweets.shape[0]\n",
    "print('tweet shape after droping duplicates', tweets.shape)\n",
    "print('duplicates removed', duplicates_removed)\n",
    "\n",
    "tweets.head(5)"
   ]
  },
  {
   "cell_type": "code",
   "execution_count": 9,
   "metadata": {},
   "outputs": [
    {
     "name": "stdout",
     "output_type": "stream",
     "text": [
      "bitcoin shape before droping duplicates (30272, 5)\n",
      "bitcoin shape after droping duplicates (30253, 5)\n",
      "duplicates removed 19\n"
     ]
    },
    {
     "data": {
      "text/html": [
       "<div>\n",
       "<style scoped>\n",
       "    .dataframe tbody tr th:only-of-type {\n",
       "        vertical-align: middle;\n",
       "    }\n",
       "\n",
       "    .dataframe tbody tr th {\n",
       "        vertical-align: top;\n",
       "    }\n",
       "\n",
       "    .dataframe thead th {\n",
       "        text-align: right;\n",
       "    }\n",
       "</style>\n",
       "<table border=\"1\" class=\"dataframe\">\n",
       "  <thead>\n",
       "    <tr style=\"text-align: right;\">\n",
       "      <th></th>\n",
       "      <th>close</th>\n",
       "      <th>high</th>\n",
       "      <th>low</th>\n",
       "      <th>open</th>\n",
       "      <th>time</th>\n",
       "    </tr>\n",
       "  </thead>\n",
       "  <tbody>\n",
       "    <tr>\n",
       "      <th>0</th>\n",
       "      <td>8737.87</td>\n",
       "      <td>8747.28</td>\n",
       "      <td>8737.63</td>\n",
       "      <td>8745.27</td>\n",
       "      <td>1526032500</td>\n",
       "    </tr>\n",
       "    <tr>\n",
       "      <th>1</th>\n",
       "      <td>8745.14</td>\n",
       "      <td>8745.14</td>\n",
       "      <td>8737.76</td>\n",
       "      <td>8738.79</td>\n",
       "      <td>1526032560</td>\n",
       "    </tr>\n",
       "    <tr>\n",
       "      <th>2</th>\n",
       "      <td>8748.48</td>\n",
       "      <td>8753.09</td>\n",
       "      <td>8744.79</td>\n",
       "      <td>8745.14</td>\n",
       "      <td>1526032620</td>\n",
       "    </tr>\n",
       "    <tr>\n",
       "      <th>3</th>\n",
       "      <td>8746.25</td>\n",
       "      <td>8748.76</td>\n",
       "      <td>8742.89</td>\n",
       "      <td>8748.48</td>\n",
       "      <td>1526032680</td>\n",
       "    </tr>\n",
       "    <tr>\n",
       "      <th>4</th>\n",
       "      <td>8753.83</td>\n",
       "      <td>8753.86</td>\n",
       "      <td>8743.80</td>\n",
       "      <td>8746.25</td>\n",
       "      <td>1526032740</td>\n",
       "    </tr>\n",
       "  </tbody>\n",
       "</table>\n",
       "</div>"
      ],
      "text/plain": [
       "     close     high      low     open        time\n",
       "0  8737.87  8747.28  8737.63  8745.27  1526032500\n",
       "1  8745.14  8745.14  8737.76  8738.79  1526032560\n",
       "2  8748.48  8753.09  8744.79  8745.14  1526032620\n",
       "3  8746.25  8748.76  8742.89  8748.48  1526032680\n",
       "4  8753.83  8753.86  8743.80  8746.25  1526032740"
      ]
     },
     "execution_count": 9,
     "metadata": {},
     "output_type": "execute_result"
    }
   ],
   "source": [
    "CRYPTO_SYMBOL = 'BTC'\n",
    "CRYPTO_FOLDER = f\"data/crypto/{CRYPTO_SYMBOL}\"\n",
    "crypto_files = glob.glob(f\"{CRYPTO_FOLDER}/*.csv\")\n",
    "dfs = []\n",
    "for file in crypto_files:\n",
    "    dfs.append(pd.read_csv(file))\n",
    "crypto_usd = pd.concat(dfs)\n",
    "crypto_usd = crypto_usd.sort_values(by=['time'])\n",
    "\n",
    "# Drop duplicates\n",
    "print('bitcoin shape before droping duplicates', crypto_usd.shape)\n",
    "duplicates_removed = crypto_usd.shape[0]\n",
    "crypto_usd = crypto_usd.drop_duplicates(subset=['time'])\n",
    "print('bitcoin shape after droping duplicates', crypto_usd.shape)\n",
    "duplicates_removed -= crypto_usd.shape[0]\n",
    "print('duplicates removed', duplicates_removed)\n",
    "crypto_usd.head(5)"
   ]
  },
  {
   "cell_type": "markdown",
   "metadata": {},
   "source": [
    "## Sentiment analysis\n",
    "\n",
    "### VADER\n",
    "VADER (Valence Aware Dictionary and sEntiment Reasoner) is a lexicon and rule-based sentiment analysis tool that is specifically attuned to sentiments expressed in social media.\n",
    "\n",
    "VADER takes into account \n",
    "- negations and contractions (not good, wasn’t good)\n",
    "- Ponctuation (good!!!), CAPS, emotes :), emojis \n",
    "- Intensificators (very, kind of), acronyms ‘lol’\n",
    "- Scores between -1.0 (negative) and 1.0 (positive)\n",
    "\n",
    "We will use this sentiment analysis of the tweets to calculate a score that will represent the importance of each tweet."
   ]
  },
  {
   "cell_type": "code",
   "execution_count": 10,
   "metadata": {},
   "outputs": [
    {
     "name": "stderr",
     "output_type": "stream",
     "text": [
      "100%|██████████| 423849/423849 [01:46<00:00, 3985.88it/s]\n"
     ]
    },
    {
     "data": {
      "text/html": [
       "<div>\n",
       "<style scoped>\n",
       "    .dataframe tbody tr th:only-of-type {\n",
       "        vertical-align: middle;\n",
       "    }\n",
       "\n",
       "    .dataframe tbody tr th {\n",
       "        vertical-align: top;\n",
       "    }\n",
       "\n",
       "    .dataframe thead th {\n",
       "        text-align: right;\n",
       "    }\n",
       "</style>\n",
       "<table border=\"1\" class=\"dataframe\">\n",
       "  <thead>\n",
       "    <tr style=\"text-align: right;\">\n",
       "      <th></th>\n",
       "      <th>ID</th>\n",
       "      <th>Text</th>\n",
       "      <th>UserName</th>\n",
       "      <th>UserFollowerCount</th>\n",
       "      <th>RetweetCount</th>\n",
       "      <th>Likes</th>\n",
       "      <th>CreatedAt</th>\n",
       "      <th>compound</th>\n",
       "    </tr>\n",
       "  </thead>\n",
       "  <tbody>\n",
       "    <tr>\n",
       "      <th>0</th>\n",
       "      <td>998140768622596097</td>\n",
       "      <td>RT : Check out our new bounty program on Bitco...</td>\n",
       "      <td>Neaj Morshed</td>\n",
       "      <td>88</td>\n",
       "      <td>2080</td>\n",
       "      <td>0</td>\n",
       "      <td>Sun May 20 09:57:58 +0000 2018</td>\n",
       "      <td>0.4767</td>\n",
       "    </tr>\n",
       "    <tr>\n",
       "      <th>1</th>\n",
       "      <td>998140767016173569</td>\n",
       "      <td>RT : GIN CASH early backers bounty distributio...</td>\n",
       "      <td>Ирина Абрамова</td>\n",
       "      <td>0</td>\n",
       "      <td>4125</td>\n",
       "      <td>0</td>\n",
       "      <td>Sun May 20 09:57:58 +0000 2018</td>\n",
       "      <td>0.0000</td>\n",
       "    </tr>\n",
       "    <tr>\n",
       "      <th>2</th>\n",
       "      <td>998140757872529408</td>\n",
       "      <td>RT : Here’s a sneak peak, the title:‘My Tweet ...</td>\n",
       "      <td>julia</td>\n",
       "      <td>10</td>\n",
       "      <td>35</td>\n",
       "      <td>0</td>\n",
       "      <td>Sun May 20 09:57:55 +0000 2018</td>\n",
       "      <td>0.2023</td>\n",
       "    </tr>\n",
       "    <tr>\n",
       "      <th>3</th>\n",
       "      <td>998140749114888192</td>\n",
       "      <td>RT : GIN CASH early backers bounty distributio...</td>\n",
       "      <td>Tan Booking</td>\n",
       "      <td>186</td>\n",
       "      <td>4125</td>\n",
       "      <td>0</td>\n",
       "      <td>Sun May 20 09:57:53 +0000 2018</td>\n",
       "      <td>0.0000</td>\n",
       "    </tr>\n",
       "    <tr>\n",
       "      <th>4</th>\n",
       "      <td>998140746493505536</td>\n",
       "      <td>RT : PO8 CMO Raul Vasquez and ICON  Co-Founder...</td>\n",
       "      <td>gospetig</td>\n",
       "      <td>23</td>\n",
       "      <td>469</td>\n",
       "      <td>0</td>\n",
       "      <td>Sun May 20 09:57:53 +0000 2018</td>\n",
       "      <td>0.0000</td>\n",
       "    </tr>\n",
       "  </tbody>\n",
       "</table>\n",
       "</div>"
      ],
      "text/plain": [
       "                   ID                                               Text  \\\n",
       "0  998140768622596097  RT : Check out our new bounty program on Bitco...   \n",
       "1  998140767016173569  RT : GIN CASH early backers bounty distributio...   \n",
       "2  998140757872529408  RT : Here’s a sneak peak, the title:‘My Tweet ...   \n",
       "3  998140749114888192  RT : GIN CASH early backers bounty distributio...   \n",
       "4  998140746493505536  RT : PO8 CMO Raul Vasquez and ICON  Co-Founder...   \n",
       "\n",
       "         UserName  UserFollowerCount  RetweetCount  Likes  \\\n",
       "0    Neaj Morshed                 88          2080      0   \n",
       "1  Ирина Абрамова                  0          4125      0   \n",
       "2           julia                 10            35      0   \n",
       "3     Tan Booking                186          4125      0   \n",
       "4        gospetig                 23           469      0   \n",
       "\n",
       "                        CreatedAt  compound  \n",
       "0  Sun May 20 09:57:58 +0000 2018    0.4767  \n",
       "1  Sun May 20 09:57:58 +0000 2018    0.0000  \n",
       "2  Sun May 20 09:57:55 +0000 2018    0.2023  \n",
       "3  Sun May 20 09:57:53 +0000 2018    0.0000  \n",
       "4  Sun May 20 09:57:53 +0000 2018    0.0000  "
      ]
     },
     "execution_count": 10,
     "metadata": {},
     "output_type": "execute_result"
    }
   ],
   "source": [
    "from vaderSentiment.vaderSentiment import SentimentIntensityAnalyzer\n",
    "analyzer = SentimentIntensityAnalyzer()\n",
    "compound = []\n",
    "for i,s in enumerate(tqdm(tweets['Text'])):\n",
    "    vs = analyzer.polarity_scores(s)\n",
    "    compound.append(vs[\"compound\"])\n",
    "tweets[\"compound\"] = compound\n",
    "tweets.head(5)"
   ]
  },
  {
   "cell_type": "markdown",
   "metadata": {},
   "source": [
    "### Calculate a score for each tweet\n",
    "To calculate the score for each tweet, we use different variables to which we had a weight based on its importance.\n",
    "\n",
    "The compound column represents the sentiment of the tweets and its value is between -1 and 1.\n",
    "\n",
    "We also use the number of retweets, the number of likes, and the number of users that follow the tweet's author."
   ]
  },
  {
   "cell_type": "code",
   "execution_count": 11,
   "metadata": {},
   "outputs": [
    {
     "name": "stderr",
     "output_type": "stream",
     "text": [
      "100%|██████████| 423849/423849 [00:28<00:00, 14773.92it/s]\n"
     ]
    },
    {
     "data": {
      "text/html": [
       "<div>\n",
       "<style scoped>\n",
       "    .dataframe tbody tr th:only-of-type {\n",
       "        vertical-align: middle;\n",
       "    }\n",
       "\n",
       "    .dataframe tbody tr th {\n",
       "        vertical-align: top;\n",
       "    }\n",
       "\n",
       "    .dataframe thead th {\n",
       "        text-align: right;\n",
       "    }\n",
       "</style>\n",
       "<table border=\"1\" class=\"dataframe\">\n",
       "  <thead>\n",
       "    <tr style=\"text-align: right;\">\n",
       "      <th></th>\n",
       "      <th>ID</th>\n",
       "      <th>Text</th>\n",
       "      <th>UserName</th>\n",
       "      <th>UserFollowerCount</th>\n",
       "      <th>RetweetCount</th>\n",
       "      <th>Likes</th>\n",
       "      <th>CreatedAt</th>\n",
       "      <th>compound</th>\n",
       "      <th>Scores</th>\n",
       "    </tr>\n",
       "  </thead>\n",
       "  <tbody>\n",
       "    <tr>\n",
       "      <th>0</th>\n",
       "      <td>998140768622596097</td>\n",
       "      <td>RT : Check out our new bounty program on Bitco...</td>\n",
       "      <td>Neaj Morshed</td>\n",
       "      <td>88</td>\n",
       "      <td>2080</td>\n",
       "      <td>0</td>\n",
       "      <td>Sun May 20 09:57:58 +0000 2018</td>\n",
       "      <td>0.4767</td>\n",
       "      <td>42.4263</td>\n",
       "    </tr>\n",
       "    <tr>\n",
       "      <th>1</th>\n",
       "      <td>998140767016173569</td>\n",
       "      <td>RT : GIN CASH early backers bounty distributio...</td>\n",
       "      <td>Ирина Абрамова</td>\n",
       "      <td>0</td>\n",
       "      <td>4125</td>\n",
       "      <td>0</td>\n",
       "      <td>Sun May 20 09:57:58 +0000 2018</td>\n",
       "      <td>0.0000</td>\n",
       "      <td>0.0000</td>\n",
       "    </tr>\n",
       "    <tr>\n",
       "      <th>2</th>\n",
       "      <td>998140757872529408</td>\n",
       "      <td>RT : Here’s a sneak peak, the title:‘My Tweet ...</td>\n",
       "      <td>julia</td>\n",
       "      <td>10</td>\n",
       "      <td>35</td>\n",
       "      <td>0</td>\n",
       "      <td>Sun May 20 09:57:55 +0000 2018</td>\n",
       "      <td>0.2023</td>\n",
       "      <td>2.2253</td>\n",
       "    </tr>\n",
       "    <tr>\n",
       "      <th>3</th>\n",
       "      <td>998140749114888192</td>\n",
       "      <td>RT : GIN CASH early backers bounty distributio...</td>\n",
       "      <td>Tan Booking</td>\n",
       "      <td>186</td>\n",
       "      <td>4125</td>\n",
       "      <td>0</td>\n",
       "      <td>Sun May 20 09:57:53 +0000 2018</td>\n",
       "      <td>0.0000</td>\n",
       "      <td>0.0000</td>\n",
       "    </tr>\n",
       "    <tr>\n",
       "      <th>4</th>\n",
       "      <td>998140746493505536</td>\n",
       "      <td>RT : PO8 CMO Raul Vasquez and ICON  Co-Founder...</td>\n",
       "      <td>gospetig</td>\n",
       "      <td>23</td>\n",
       "      <td>469</td>\n",
       "      <td>0</td>\n",
       "      <td>Sun May 20 09:57:53 +0000 2018</td>\n",
       "      <td>0.0000</td>\n",
       "      <td>0.0000</td>\n",
       "    </tr>\n",
       "  </tbody>\n",
       "</table>\n",
       "</div>"
      ],
      "text/plain": [
       "                   ID                                               Text  \\\n",
       "0  998140768622596097  RT : Check out our new bounty program on Bitco...   \n",
       "1  998140767016173569  RT : GIN CASH early backers bounty distributio...   \n",
       "2  998140757872529408  RT : Here’s a sneak peak, the title:‘My Tweet ...   \n",
       "3  998140749114888192  RT : GIN CASH early backers bounty distributio...   \n",
       "4  998140746493505536  RT : PO8 CMO Raul Vasquez and ICON  Co-Founder...   \n",
       "\n",
       "         UserName  UserFollowerCount  RetweetCount  Likes  \\\n",
       "0    Neaj Morshed                 88          2080      0   \n",
       "1  Ирина Абрамова                  0          4125      0   \n",
       "2           julia                 10            35      0   \n",
       "3     Tan Booking                186          4125      0   \n",
       "4        gospetig                 23           469      0   \n",
       "\n",
       "                        CreatedAt  compound   Scores  \n",
       "0  Sun May 20 09:57:58 +0000 2018    0.4767  42.4263  \n",
       "1  Sun May 20 09:57:58 +0000 2018    0.0000   0.0000  \n",
       "2  Sun May 20 09:57:55 +0000 2018    0.2023   2.2253  \n",
       "3  Sun May 20 09:57:53 +0000 2018    0.0000   0.0000  \n",
       "4  Sun May 20 09:57:53 +0000 2018    0.0000   0.0000  "
      ]
     },
     "execution_count": 11,
     "metadata": {},
     "output_type": "execute_result"
    }
   ],
   "source": [
    "scores = []\n",
    "for i, s in tqdm(tweets.iterrows(), total=tweets.shape[0]):\n",
    "    scores.append(s[\"compound\"] * ((s[\"UserFollowerCount\"]+1)) * ((s[\"Likes\"]+1)))\n",
    "tweets[\"Scores\"] = scores\n",
    "tweets.head(5)"
   ]
  },
  {
   "cell_type": "markdown",
   "metadata": {},
   "source": [
    "## Group by and sum by timeframe"
   ]
  },
  {
   "cell_type": "code",
   "execution_count": 12,
   "metadata": {
    "scrolled": false
   },
   "outputs": [
    {
     "name": "stderr",
     "output_type": "stream",
     "text": [
      "/anaconda3/lib/python3.6/site-packages/ipykernel_launcher.py:4: FutureWarning: pd.TimeGrouper is deprecated and will be removed; Please use pd.Grouper(freq=...)\n",
      "  after removing the cwd from sys.path.\n",
      "/anaconda3/lib/python3.6/site-packages/ipykernel_launcher.py:9: FutureWarning: pd.TimeGrouper is deprecated and will be removed; Please use pd.Grouper(freq=...)\n",
      "  if __name__ == '__main__':\n"
     ]
    }
   ],
   "source": [
    "tweets['CreatedAt'] = pd.to_datetime(tweets['CreatedAt'])\n",
    "tweets.index = tweets['CreatedAt']\n",
    "\n",
    "tweets_grouped = tweets.groupby(pd.TimeGrouper('1h'))['Scores'].sum()\n",
    "\n",
    "crypto_usd['time'] = pd.to_datetime(crypto_usd['time'], unit='s')\n",
    "crypto_usd.index = crypto_usd['time']\n",
    "\n",
    "crypto_usd_grouped = crypto_usd.groupby(pd.TimeGrouper('1h'))['close'].mean()"
   ]
  },
  {
   "cell_type": "markdown",
   "metadata": {},
   "source": [
    "### Plotting the scores\n",
    "We calculate the mean of each tweets grouped by hour and then we plot it."
   ]
  },
  {
   "cell_type": "code",
   "execution_count": 13,
   "metadata": {
    "scrolled": false
   },
   "outputs": [
    {
     "data": {
      "image/png": "[encoded data removed]",
      "text/plain": [
       "<matplotlib.figure.Figure at 0x110653898>"
      ]
     },
     "metadata": {},
     "output_type": "display_data"
    }
   ],
   "source": [
    "#\n",
    "#plt.plot_date(tweets_grouped.index, tweets_grouped, ls='-', marker='o')\n",
    "#plt.plot_date(crypto_usd_grouped.index, crypto_usd_grouped, ls='-', marker='o')\n",
    "#plt.show()\n",
    "\n",
    "fig, ax1 = plt.subplots(figsize=(20,10))\n",
    "\n",
    "ax2 = ax1.twinx()\n",
    "ax1.plot_date(tweets_grouped.index, tweets_grouped, 'g-')\n",
    "ax2.plot_date(crypto_usd_grouped.index, crypto_usd_grouped, 'b-')\n",
    "\n",
    "ax1.set_xlabel('X data')\n",
    "ax1.set_ylabel('Y1 data', color='g')\n",
    "ax2.set_ylabel('Y2 data', color='b')\n",
    "plt.show()"
   ]
  },
  {
   "cell_type": "markdown",
   "metadata": {},
   "source": [
    "## Correlation analysis\n",
    "Here we make the correlation analysis between BTC/USD currency derivative and the tweets scores derivative.\n",
    "\n",
    "We can test our correlation hypothesis using the Pandas corr() method, which computes a Pearson correlation coefficient for each column in the dataframe against each other column.\n",
    "\n",
    "This Stackoverflow answer gives very useful details about correlating with time series.\n",
    "https://stackoverflow.com/questions/6467832/how-to-get-the-correlation-between-two-timeseries-using-pandas"
   ]
  },
  {
   "cell_type": "code",
   "execution_count": 14,
   "metadata": {},
   "outputs": [
    {
     "data": {
      "text/plain": [
       "0.09758512457606448"
      ]
     },
     "execution_count": 14,
     "metadata": {},
     "output_type": "execute_result"
    }
   ],
   "source": [
    "tweets_grouped.corr(crypto_usd_grouped)"
   ]
  },
  {
   "cell_type": "markdown",
   "metadata": {},
   "source": [
    "### Derivative and offset\n",
    "We will need a bit more complicated correlation analysis here as we need to correlate the derivative of both series and we will need to offset each serie from the other because the change increase in the Bitcoin currency should occure a few moments after the tweets. The task here is to find a good offset."
   ]
  },
  {
   "cell_type": "code",
   "execution_count": 15,
   "metadata": {},
   "outputs": [],
   "source": [
    "#Derivative and normalisation???\n",
    "\n",
    "#Offset\n",
    "\n",
    "#Correlation"
   ]
  },
  {
   "cell_type": "markdown",
   "metadata": {},
   "source": [
    "## Realtime correlation viewer\n",
    "We can stream the new tweets about Bitcoin using the TwythonStreamer module. \n",
    "\n",
    "Using the CryptoCompare API we can also retrieve the BTC/USD currency in realtime using sockets.\n",
    "\n",
    "Finally we can plot it with Plotly."
   ]
  },
  {
   "cell_type": "code",
   "execution_count": 16,
   "metadata": {
    "scrolled": false
   },
   "outputs": [
    {
     "data": {
      "text/html": [
       "<iframe id=\"igraph\" scrolling=\"no\" style=\"border:none;\" seamless=\"seamless\" src=\"https://plot.ly/~SebastienRichoz/96.embed\" height=\"525px\" width=\"100%\"></iframe>"
      ],
      "text/plain": [
       "<plotly.tools.PlotlyDisplay object>"
      ]
     },
     "execution_count": 16,
     "metadata": {},
     "output_type": "execute_result"
    }
   ],
   "source": [
    "import plotly.plotly as py\n",
    "import plotly.graph_objs as go\n",
    "from datetime import datetime, timedelta\n",
    "from time import sleep\n",
    "import plotly.tools as tls  \n",
    "\n",
    "# Get stream id from stream id list\n",
    "stream_id_crypto, stream_id_tweets = tls.get_credentials_file()['stream_ids'][:2]\n",
    "\n",
    "# Make instance of stream id object \n",
    "stream_tweets = go.Stream(\n",
    "    token=stream_id_tweets,  # link stream id to 'token' key\n",
    "    maxpoints=1000      # keep a max of 80 pts on screen\n",
    ")\n",
    "\n",
    "stream_crypto = go.Stream(\n",
    "    token=stream_id_crypto,  # link stream id to 'token' key\n",
    "    maxpoints=200      # keep a max of 80 pts on screen\n",
    ")\n",
    "\n",
    "# Initialize trace of streaming plot by embedding the unique stream_id\n",
    "trace_crypto = go.Scatter(x=[],y=[], stream=stream_crypto, name = CRYPTO_SYMBOL)\n",
    "trace_tweets = go.Scatter(x=[], y=[], mode='lines', name='Sentiments', yaxis='y2', stream=stream_tweets)\n",
    "\n",
    "#data = [trace_crypto, trace_tweets]\n",
    "data = [trace_crypto, trace_tweets]\n",
    "\n",
    "# Add title to layout object\n",
    "layout = go.Layout(\n",
    "    title=f\"{CRYPTO_SYMBOL} currency and tweets sentiments\",\n",
    "    yaxis=dict(\n",
    "        title='Price USD'\n",
    "    ),\n",
    "    yaxis2=dict(\n",
    "        title='Sentiment score',\n",
    "        titlefont=dict(\n",
    "            color='rgb(148, 103, 189)'\n",
    "        ),\n",
    "        tickfont=dict(\n",
    "            color='rgb(148, 103, 189)'\n",
    "        ),\n",
    "        overlaying='y',\n",
    "        side='right'\n",
    "    )\n",
    ")\n",
    "\n",
    "# Make a figure object\n",
    "fig = go.Figure(data=data, layout=layout)\n",
    "\n",
    "py.iplot(fig, filename=f\"real_time_{CRYPTO_SYMBOL}_tweets\", fileopt=\"overwrite\")"
   ]
  },
  {
   "cell_type": "markdown",
   "metadata": {},
   "source": [
    "### Before continuing, run the crypto streamer first\n",
    "\n",
    "Open your terminal and execute this command at the same level as this notebook. You first need to have [npm with node](https://www.npmjs.com/get-npm) installed on your machine.\n",
    "\n",
    "- `cd streamer && npm install && node stream_crypto.js`\n",
    "\n",
    "This line inside a jupyter notebook makes the cell block \n",
    "\n",
    "- `! cd streamer && node stream_crypto.js`\n",
    "\n",
    "### Once this is done you can run the following cell to retrieve tweets"
   ]
  },
  {
   "cell_type": "code",
   "execution_count": null,
   "metadata": {},
   "outputs": [],
   "source": [
    "from twython import TwythonStreamer\n",
    "import time\n",
    "from vaderSentiment.vaderSentiment import SentimentIntensityAnalyzer\n",
    "\n",
    "# We will provide the stream link object the same token that's associated with the trace we wish to stream to\n",
    "#s_crypto = py.Stream(stream_id_crypto)\n",
    "s_tweets = py.Stream(stream_id_tweets)\n",
    "\n",
    "# We then open a connection\n",
    "#s_crypto.open()\n",
    "s_tweets.open()\n",
    "\n",
    "# Vader sentiment analyser\n",
    "analyzer = SentimentIntensityAnalyzer()\n",
    "\n",
    "class MyStreamer(TwythonStreamer):\n",
    "    def on_success(self, data):\n",
    "        if 'text' in data:\n",
    "            # x value: date\n",
    "            date_str = data['created_at']\n",
    "            time_struct = time.strptime(date_str, \"%a %b %d %H:%M:%S +0000 %Y\")#Tue Apr 26 08:57:55 +0000 2011\n",
    "            date = datetime.fromtimestamp(time.mktime(time_struct))\n",
    "            date += timedelta(hours=2) # timezone\n",
    "            \n",
    "            # y value: sentiment of the tweet\n",
    "            text = data['text']\n",
    "            vs = analyzer.polarity_scores(text)\n",
    "            score = vs[\"compound\"] * (data[\"user\"][\"followers_count\"]+1) * (data[\"favorite_count\"]+1)\n",
    "            #print(date, score)\n",
    "            s_tweets.write(dict(type='scatter',\n",
    "                 x=date,y=score))\n",
    "\n",
    "    def on_error(self, status_code, data):\n",
    "        print(status_code, data)\n",
    "\n",
    "        # Want to stop trying to get data because of the error?\n",
    "        # Uncomment the next line!\n",
    "        # self.disconnect()\n",
    "        \n",
    "APP_KEY = 'mPQKoRwd2Pb9qpQyQmyG5s8KR'\n",
    "APP_SECRET = 'HLvIhusvfzDLKaRXY8CnZGP143kp3E3f2KqQBIEMfVL5mOxZjq'\n",
    "OAUTH_TOKEN = \"3459248236-0XPtHldG3ou6BfpTwaKWnOL2ywFk2niQekLwE7K\"\n",
    "OAUTH_TOKEN_SECRET = \"08Vy2wuOkp7AmuC3rbjCHFJ94MLG2sWqdvGQtoiXmkVKr\"\n",
    "\n",
    "stream = MyStreamer(APP_KEY, APP_SECRET,\n",
    "                    OAUTH_TOKEN, OAUTH_TOKEN_SECRET)\n",
    "stream.statuses.filter(track=['#bitcoin', '#BTC'], lang='en')"
   ]
  },
  {
   "cell_type": "markdown",
   "metadata": {},
   "source": [
    "### To stop the real time data retrieving, stop the kernel in this notebook and press Ctrl+C in your terminal"
   ]
  },
  {
   "cell_type": "code",
   "execution_count": 27,
   "metadata": {},
   "outputs": [],
   "source": [
    "# Close the stream when done plotting\n",
    "s_tweets.close() "
   ]
  },
  {
   "cell_type": "code",
   "execution_count": null,
   "metadata": {},
   "outputs": [],
   "source": []
  }
 ],
 "metadata": {
  "kernelspec": {
   "display_name": "Python 3",
   "language": "python",
   "name": "python3"
  },
  "language_info": {
   "codemirror_mode": {
    "name": "ipython",
    "version": 3
   },
   "file_extension": ".py",
   "mimetype": "text/x-python",
   "name": "python",
   "nbconvert_exporter": "python",
   "pygments_lexer": "ipython3",
   "version": "3.6.4"
  }
 },
 "nbformat": 4,
 "nbformat_minor": 1
}
