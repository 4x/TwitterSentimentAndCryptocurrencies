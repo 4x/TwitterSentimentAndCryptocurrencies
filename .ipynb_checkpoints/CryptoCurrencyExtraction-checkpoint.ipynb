{
 "cells": [
  {
   "cell_type": "markdown",
   "metadata": {},
   "source": [
    "# Crypto currency\n",
    "\n",
    "- Retrieve historical data of a crypto currency (Bitcoin)\n",
    "    - https://min-api.cryptocompare.com/data/histominute?fsym=BTC&tsym=USD&limit=10\n",
    "- Find a way to update this historical data\n",
    "- Plot crypto currency in an interactive manner\n",
    "\n",
    "## API for historical data retrievement\n",
    "\n",
    "The API used to retrieve historical data is **CryptoCompare** https://min-api.cryptocompare.com/. We chose this API because it provides many benefits for free :\n",
    "1. Retrieve historical data at minute interval up to 7 days. For older times, interval becomes hourly or daily. \n",
    "2. Many crypto currencies available TODO give a list\n",
    "3. Easy to use, no need to authenticate\n",
    "4. High rate limits : https://min-api.cryptocompare.com/stats/rate/limit"
   ]
  },
  {
   "cell_type": "code",
   "execution_count": 37,
   "metadata": {},
   "outputs": [],
   "source": [
    "import urllib.request\n",
    "import pandas as pd\n",
    "import json\n",
    "\n",
    "BASE_URL = \"https://min-api.cryptocompare.com/data/histominute\"\n",
    "CRYPTO_SYMBOL = \"BTC\"\n",
    "CURRENCY = \"USD\"\n",
    "LIMIT = 2000 # max 2000\n",
    "APP_NAME = \"HES_SO_master_crypto_analysis\"\n",
    "\n",
    "contents = urllib.request.urlopen(\n",
    "    f\"{BASE_URL}?fsym={CRYPTO_SYMBOL}&tsym={CURRENCY}&limit={LIMIT}&extraParams={APP_NAME}\"\n",
    ").read()\n",
    "json_string = contents.decode(\"utf-8\")\n",
    "obj = json.loads(json_string)"
   ]
  },
  {
   "cell_type": "markdown",
   "metadata": {},
   "source": [
    "### Data understanding\n",
    "\n",
    "The data returned contains the following information :\n",
    "\n",
    "- time : unix timestamp when data was recorded\n",
    "- open : The price at opening time of the interval\n",
    "- close : The price at close time of the interval\n",
    "- low : The lowest price observed during the interval\n",
    "- high : The higher price reached during the interval\n",
    "- volumefrom : TODO\n",
    "- volumeto : TODO"
   ]
  },
  {
   "cell_type": "code",
   "execution_count": 40,
   "metadata": {},
   "outputs": [
    {
     "data": {
      "text/html": [
       "<div>\n",
       "<style scoped>\n",
       "    .dataframe tbody tr th:only-of-type {\n",
       "        vertical-align: middle;\n",
       "    }\n",
       "\n",
       "    .dataframe tbody tr th {\n",
       "        vertical-align: top;\n",
       "    }\n",
       "\n",
       "    .dataframe thead th {\n",
       "        text-align: right;\n",
       "    }\n",
       "</style>\n",
       "<table border=\"1\" class=\"dataframe\">\n",
       "  <thead>\n",
       "    <tr style=\"text-align: right;\">\n",
       "      <th></th>\n",
       "      <th>close</th>\n",
       "      <th>high</th>\n",
       "      <th>low</th>\n",
       "      <th>open</th>\n",
       "      <th>time</th>\n",
       "      <th>volumefrom</th>\n",
       "      <th>volumeto</th>\n",
       "    </tr>\n",
       "  </thead>\n",
       "  <tbody>\n",
       "    <tr>\n",
       "      <th>0</th>\n",
       "      <td>8748.90</td>\n",
       "      <td>8748.90</td>\n",
       "      <td>8742.40</td>\n",
       "      <td>8743.04</td>\n",
       "      <td>1526365740</td>\n",
       "      <td>27.17</td>\n",
       "      <td>237674.81</td>\n",
       "    </tr>\n",
       "    <tr>\n",
       "      <th>1</th>\n",
       "      <td>8742.69</td>\n",
       "      <td>8749.34</td>\n",
       "      <td>8742.69</td>\n",
       "      <td>8748.80</td>\n",
       "      <td>1526365800</td>\n",
       "      <td>28.91</td>\n",
       "      <td>254330.87</td>\n",
       "    </tr>\n",
       "    <tr>\n",
       "      <th>2</th>\n",
       "      <td>8740.03</td>\n",
       "      <td>8742.40</td>\n",
       "      <td>8737.17</td>\n",
       "      <td>8742.09</td>\n",
       "      <td>1526365860</td>\n",
       "      <td>31.57</td>\n",
       "      <td>276893.35</td>\n",
       "    </tr>\n",
       "    <tr>\n",
       "      <th>3</th>\n",
       "      <td>8752.12</td>\n",
       "      <td>8752.13</td>\n",
       "      <td>8736.42</td>\n",
       "      <td>8740.03</td>\n",
       "      <td>1526365920</td>\n",
       "      <td>34.42</td>\n",
       "      <td>301017.00</td>\n",
       "    </tr>\n",
       "    <tr>\n",
       "      <th>4</th>\n",
       "      <td>8754.21</td>\n",
       "      <td>8754.58</td>\n",
       "      <td>8750.87</td>\n",
       "      <td>8752.12</td>\n",
       "      <td>1526365980</td>\n",
       "      <td>35.00</td>\n",
       "      <td>306247.27</td>\n",
       "    </tr>\n",
       "  </tbody>\n",
       "</table>\n",
       "</div>"
      ],
      "text/plain": [
       "     close     high      low     open        time  volumefrom   volumeto\n",
       "0  8748.90  8748.90  8742.40  8743.04  1526365740       27.17  237674.81\n",
       "1  8742.69  8749.34  8742.69  8748.80  1526365800       28.91  254330.87\n",
       "2  8740.03  8742.40  8737.17  8742.09  1526365860       31.57  276893.35\n",
       "3  8752.12  8752.13  8736.42  8740.03  1526365920       34.42  301017.00\n",
       "4  8754.21  8754.58  8750.87  8752.12  1526365980       35.00  306247.27"
      ]
     },
     "execution_count": 40,
     "metadata": {},
     "output_type": "execute_result"
    }
   ],
   "source": [
    "df_histo = pd.DataFrame.from_dict(obj['Data'])\n",
    "df_histo.head(5)"
   ]
  },
  {
   "cell_type": "code",
   "execution_count": 39,
   "metadata": {},
   "outputs": [
    {
     "name": "stdout",
     "output_type": "stream",
     "text": [
      "1526485740\n",
      "2018-05-15 08:29:00\n",
      "2018-05-16 17:49:00\n"
     ]
    }
   ],
   "source": [
    "import datetime\n",
    "print(df_histo['time'].iloc[-1])\n",
    "print(datetime.datetime.fromtimestamp(int(df_histo['time'].iloc[0])).strftime('%Y-%m-%d %H:%M:%S'))\n",
    "print(datetime.datetime.fromtimestamp(int(df_histo['time'].iloc[-1])).strftime('%Y-%m-%d %H:%M:%S'))"
   ]
  },
  {
   "cell_type": "code",
   "execution_count": null,
   "metadata": {},
   "outputs": [],
   "source": []
  },
  {
   "cell_type": "code",
   "execution_count": null,
   "metadata": {},
   "outputs": [],
   "source": []
  }
 ],
 "metadata": {
  "kernelspec": {
   "display_name": "Python 3",
   "language": "python",
   "name": "python3"
  },
  "language_info": {
   "codemirror_mode": {
    "name": "ipython",
    "version": 3
   },
   "file_extension": ".py",
   "mimetype": "text/x-python",
   "name": "python",
   "nbconvert_exporter": "python",
   "pygments_lexer": "ipython3",
   "version": "3.6.4"
  }
 },
 "nbformat": 4,
 "nbformat_minor": 2
}
